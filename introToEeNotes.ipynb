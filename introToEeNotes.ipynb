{
 "cells": [
  {
   "cell_type": "markdown",
   "metadata": {},
   "source": [
    "# EE101 | Intro to EE with Ertan Ozturk\n",
    "\n",
    "## Lectures\n",
    "\n",
    "&check; Aug 29, 2024\n",
    "\n",
    "&check; Sep 5, 2024"
   ]
  },
  {
   "cell_type": "markdown",
   "metadata": {},
   "source": [
    "## Introduction to the course\n",
    "\n",
    "## Intro to electrical engineering\n",
    "- EE was born from physics\n",
    "- Pioneers in EE\n",
    "    - Thomas Edison (electric light bulb)\n",
    "    - Nikola Tesla (alternating current and induction motor)\n",
    "    - Guglielmo Marconi (radio)\n",
    "    - \n",
    "- Skills for Engineers\n",
    "    - creativity\n",
    "    - communication\n",
    "    - attention to detail\n",
    "    - self-discipline\n",
    "    - technical skills\n",
    "\n",
    "## Electrical engineering education at UND\n",
    "\n",
    "## Electrical concepts\n",
    "\n",
    "## Resistive circuits and Kirchoff's Law\n",
    "\n",
    "## Capacitors and inductors\n",
    "\n",
    "## Midterm exam\n",
    "\n",
    "## Semiconductors, diode and transitors\n",
    "\n",
    "## Logic gates and processors\n",
    "\n",
    "## Computer systems\n",
    "\n",
    "## Embedded systems\n",
    "\n",
    "## Midterm exam II\n",
    "\n",
    "## Intro to EE lab equipment\n",
    "\n",
    "## Electrical hazards and grounnding\n",
    "\n",
    "## Engineering ethics and legal issues\n",
    "\n",
    "## Final review\n"
   ]
  }
 ],
 "metadata": {
  "language_info": {
   "name": "python"
  }
 },
 "nbformat": 4,
 "nbformat_minor": 2
}
